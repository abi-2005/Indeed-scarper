{
 "cells": [
  {
   "cell_type": "code",
   "execution_count": 1,
   "id": "e6bc36f6-72da-44b3-8d73-87d68158f687",
   "metadata": {},
   "outputs": [
    {
     "name": "stderr",
     "output_type": "stream",
     "text": [
      "2024-10-18 11:26:54,634 - JobSpy - INFO - Indeed search page: 1\n",
      "2024-10-18 11:26:54,650 - JobSpy - INFO - LinkedIn search page: 1\n",
      "2024-10-18 11:26:55,400 - JobSpy - INFO - Indeed found no jobs on page: 1\n",
      "2024-10-18 11:26:55,402 - JobSpy - INFO - Indeed finished scraping\n",
      "2024-10-18 11:26:55,441 - JobSpy - INFO - ZipRecruiter search page: 1\n",
      "2024-10-18 11:26:56,216 - JobSpy - INFO - ZipRecruiter finished scraping\n",
      "2024-10-18 11:26:56,222 - JobSpy - INFO - Glassdoor search page: 1\n",
      "2024-10-18 11:26:58,146 - JobSpy - INFO - Glassdoor finished scraping\n",
      "2024-10-18 11:27:01,287 - JobSpy - INFO - LinkedIn search page: 2\n",
      "2024-10-18 11:27:02,180 - JobSpy - INFO - Linkedin finished scraping\n"
     ]
    },
    {
     "name": "stdout",
     "output_type": "stream",
     "text": [
      "Found 40 jobs\n",
      "               id       site  \\\n",
      "0   1009491067763  glassdoor   \n",
      "1   1009491010870  glassdoor   \n",
      "6   1009491470761  glassdoor   \n",
      "8   1009491896809  glassdoor   \n",
      "11  1009491345055  glassdoor   \n",
      "\n",
      "                                              job_url job_url_direct  \\\n",
      "0   https://www.glassdoor.com/job-listing/j?jl=100...           None   \n",
      "1   https://www.glassdoor.com/job-listing/j?jl=100...           None   \n",
      "6   https://www.glassdoor.com/job-listing/j?jl=100...           None   \n",
      "8   https://www.glassdoor.com/job-listing/j?jl=100...           None   \n",
      "11  https://www.glassdoor.com/job-listing/j?jl=100...           None   \n",
      "\n",
      "                                       title            company location  \\\n",
      "0                   Web Developer Internship  Pepgra HealthCare    India   \n",
      "1                        Software Engineer I    Anthology, Inc.  Chennai   \n",
      "6   Software Development Engineer-II, Amazon    ADCI MAA 15 SEZ  Chennai   \n",
      "8              Software Development Engineer           NTT DATA  Chennai   \n",
      "11               Associate Software Engineer                ADP  Chennai   \n",
      "\n",
      "   job_type date_posted salary_source  ...  \\\n",
      "0      None  2024-10-18   direct_data  ...   \n",
      "1      None  2024-10-18   direct_data  ...   \n",
      "6      None  2024-10-18   direct_data  ...   \n",
      "8      None  2024-10-18   direct_data  ...   \n",
      "11     None  2024-10-18           NaN  ...   \n",
      "\n",
      "                                          company_url  company_url_direct  \\\n",
      "0   https://www.glassdoor.com/Overview/W-EI_IE2157...                None   \n",
      "1   https://www.glassdoor.com/Overview/W-EI_IE3522...                None   \n",
      "6   https://www.glassdoor.com/Overview/W-EI_IE6036...                None   \n",
      "8   https://www.glassdoor.com/Overview/W-EI_IE7649...                None   \n",
      "11   https://www.glassdoor.com/Overview/W-EI_IE64.htm                None   \n",
      "\n",
      "    company_addresses company_num_employees company_revenue  \\\n",
      "0                None                  None            None   \n",
      "1                None                  None            None   \n",
      "6                None                  None            None   \n",
      "8                None                  None            None   \n",
      "11               None                  None            None   \n",
      "\n",
      "   company_description                                     logo_photo_url  \\\n",
      "0                 None                                                NaN   \n",
      "1                 None  https://media.glassdoor.com/sql/3522407/anthol...   \n",
      "6                 None  https://media.glassdoor.com/sql/6036/amazon-sq...   \n",
      "8                 None  https://media.glassdoor.com/sql/7649/ntt-data-...   \n",
      "11                None  https://media.glassdoor.com/sql/64/adp-squareL...   \n",
      "\n",
      "   banner_photo_url ceo_name ceo_photo_url  \n",
      "0              None     None          None  \n",
      "1              None     None          None  \n",
      "6              None     None          None  \n",
      "8              None     None          None  \n",
      "11             None     None          None  \n",
      "\n",
      "[5 rows x 31 columns]\n"
     ]
    }
   ],
   "source": [
    "import csv\n",
    "from jobspy import scrape_jobs\n",
    "\n",
    "jobs = scrape_jobs(\n",
    "    site_name=[\"indeed\", \"linkedin\", \"zip_recruiter\", \"glassdoor\"],\n",
    "    search_term=\"software engineer\",\n",
    "    location=\"chennai, TN\",\n",
    "    results_wanted=20,\n",
    "    hours_old=72, # (only Linkedin/Indeed is hour specific, others round up to days old)\n",
    "    country_indeed='USA',  # only needed for indeed / glassdoor\n",
    "    \n",
    "    # linkedin_fetch_description=True # get more info such as full description, direct job url for linkedin (slower)\n",
    "    # proxies=[\"208.195.175.46:65095\", \"208.195.175.45:65095\", \"localhost\"],\n",
    "    \n",
    ")\n",
    "print(f\"Found {len(jobs)} jobs\")\n",
    "print(jobs.head())\n",
    "jobs.to_csv(\"jobs.csv\", quoting=csv.QUOTE_NONNUMERIC, escapechar=\"\\\\\", index=False) # to_excel"
   ]
  },
  {
   "cell_type": "code",
   "execution_count": null,
   "id": "c6e90b20-32f5-4d6a-830a-061f04b72d19",
   "metadata": {},
   "outputs": [],
   "source": []
  },
  {
   "cell_type": "code",
   "execution_count": null,
   "id": "a90c0dff-f19c-4a99-92e3-bd5f7fb63cd2",
   "metadata": {},
   "outputs": [],
   "source": []
  }
 ],
 "metadata": {
  "kernelspec": {
   "display_name": "Python 3 (ipykernel)",
   "language": "python",
   "name": "python3"
  },
  "language_info": {
   "codemirror_mode": {
    "name": "ipython",
    "version": 3
   },
   "file_extension": ".py",
   "mimetype": "text/x-python",
   "name": "python",
   "nbconvert_exporter": "python",
   "pygments_lexer": "ipython3",
   "version": "3.12.7"
  }
 },
 "nbformat": 4,
 "nbformat_minor": 5
}
